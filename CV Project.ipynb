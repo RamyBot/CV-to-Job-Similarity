{
 "cells": [
  {
   "cell_type": "markdown",
   "metadata": {},
   "source": [
    "# Talent Decision Enabling Framework"
   ]
  },
  {
   "cell_type": "markdown",
   "metadata": {},
   "source": [
    "#### Talent Analytics at your fingertips!"
   ]
  },
  {
   "cell_type": "markdown",
   "metadata": {},
   "source": [
    "### CV Processing"
   ]
  },
  {
   "cell_type": "code",
   "execution_count": 40,
   "metadata": {},
   "outputs": [],
   "source": [
    "import pandas as pd"
   ]
  },
  {
   "cell_type": "code",
   "execution_count": 41,
   "metadata": {},
   "outputs": [],
   "source": [
    "from nltk.tokenize import word_tokenize, sent_tokenize\n",
    "import gensim\n",
    "import numpy as np\n",
    "# !pip install gensim"
   ]
  },
  {
   "cell_type": "code",
   "execution_count": 45,
   "metadata": {},
   "outputs": [],
   "source": [
    "file_docs = []\n",
    "\n",
    "with open ('C:\\\\Users\\\\Ramy\\\\Desktop\\\\CV.txt') as f:\n",
    "    cv = f.read()"
   ]
  },
  {
   "cell_type": "code",
   "execution_count": 46,
   "metadata": {},
   "outputs": [
    {
     "data": {
      "text/plain": [
       "'ernst and young ey mumbai inddia data full time hand experience microsoft powerbi tableau alteryx designer microsoft sql server studio analyst experience perform analytics implement automation solutions clients across finance sector award debutante risk advisory practice conduct train sessions senior management across india analytics tool enactus mumbai india president part time president team people two years assist eight beneficiaries generate usd per annum specialize research develop ngo relations tata consultancy service mumbai india project intern specialize database connectivity work tech solution bank sector extracurricular activities or previous history win harvard diplomacy award harvard world model unite nations keen interest data visualization work multiple project relate bi career interest business intelligence statistics sql health care disruption strategy consult'"
      ]
     },
     "execution_count": 46,
     "metadata": {},
     "output_type": "execute_result"
    }
   ],
   "source": [
    "words = cv.split()\n",
    "import string\n",
    "table = str.maketrans('', '', string.punctuation)\n",
    "stripped = [w.translate(table) for w in words]\n",
    "from nltk.corpus import stopwords\n",
    "stop_words = stopwords.words('english')\n",
    "# remove remaining tokens that are not alphabetic\n",
    "words = [word for word in stripped if word.isalpha()]\n",
    "# filter out stop words\n",
    "from nltk.corpus import stopwords\n",
    "stop_words = set(stopwords.words('english'))\n",
    "words = [w for w in words if not w in stop_words]\n",
    "words = [word.lower() for word in words]\n",
    "from nltk.stem import WordNetLemmatizer\n",
    "lem = WordNetLemmatizer()\n",
    "words = [lem.lemmatize(word,\"v\") for word in words]\n",
    "from nltk.tokenize.treebank import TreebankWordDetokenizer\n",
    "word_sentence=TreebankWordDetokenizer().detokenize(words)\n",
    "word_sentence"
   ]
  },
  {
   "cell_type": "code",
   "execution_count": 47,
   "metadata": {},
   "outputs": [
    {
     "data": {
      "text/plain": [
       "'ernst and young ey mumbai inddia data full time hand experience microsoft powerbi tableau alteryx designer microsoft sql server studio analyst experience perform analytics implement automation solutions clients across finance sector award debutante risk advisory practice conduct train sessions senior management across india analytics tool enactus mumbai india president part time president team people two years assist eight beneficiaries generate usd per annum specialize research develop ngo relations tata consultancy service mumbai india project intern specialize database connectivity work tech solution bank sector extracurricular activities or previous history win harvard diplomacy award harvard world model unite nations keen interest data visualization work multiple project relate bi career interest business intelligence statistics sql health care disruption strategy consult. a.'"
      ]
     },
     "execution_count": 47,
     "metadata": {},
     "output_type": "execute_result"
    }
   ],
   "source": [
    "word_sentence1 = word_sentence+\". a.\"\n",
    "word_sentence1"
   ]
  },
  {
   "cell_type": "markdown",
   "metadata": {},
   "source": [
    "### Job Description"
   ]
  },
  {
   "cell_type": "code",
   "execution_count": 49,
   "metadata": {},
   "outputs": [],
   "source": [
    "file_docs = []\n",
    "\n",
    "with open ('C:\\\\Users\\\\Ramy\\\\Desktop\\\\JD.txt') as f:\n",
    "    jobdesc = f.read()"
   ]
  },
  {
   "cell_type": "code",
   "execution_count": 51,
   "metadata": {},
   "outputs": [
    {
     "data": {
      "text/plain": [
       "'term employment full time permanent job location west georgia street vancouver as machine learn scientist work software developers team design implement nlu model customers use interact smart devices home you help lay foundation move direct device interactions learn behaviors enable alexa proactively take action behalf customer and satisfaction work product friends family relate want use every day like world smart phone less years ago rare opportunity giant impact way people live salary commensurate experience basic qualifications master phd computer science machine learn statistics relate quantitative field years handson experience apply machine learn predictive model analysis algorithm model development experience largescale applications experience use python program script language well r matlab solid understand foundational statistics concepts nlu ml algorithms linearlogistic regression random forest boost gbm nns etc language require job english prefer qualifications all applicants must meet qualifications benefit amazon provide full range benefit global employees eligible family members eligible employees may also receive sign bonuses amazon restrict stock units this position eligible pay increase bonuses company discretion while might vary location location amazon benefit canada may include health care save plan income protection pay time off employee stock sign bonuses amazon offer competitive package growth potential challenge excite work environment amazon affiliate equal opportunity employers visit wwwamazoncomcareers information'"
      ]
     },
     "execution_count": 51,
     "metadata": {},
     "output_type": "execute_result"
    }
   ],
   "source": [
    "words = jobdesc.split()\n",
    "import string\n",
    "table = str.maketrans('', '', string.punctuation)\n",
    "stripped = [w.translate(table) for w in words]\n",
    "from nltk.corpus import stopwords\n",
    "stop_words = stopwords.words('english')\n",
    "# remove remaining tokens that are not alphabetic\n",
    "words = [word for word in stripped if word.isalpha()]\n",
    "# filter out stop words\n",
    "from nltk.corpus import stopwords\n",
    "stop_words = set(stopwords.words('english'))\n",
    "words = [w for w in words if not w in stop_words]\n",
    "words = [word.lower() for word in words]\n",
    "from nltk.stem import WordNetLemmatizer\n",
    "lem = WordNetLemmatizer()\n",
    "words = [lem.lemmatize(word,\"v\") for word in words]\n",
    "from nltk.tokenize.treebank import TreebankWordDetokenizer\n",
    "word_sentence2=TreebankWordDetokenizer().detokenize(words)\n",
    "word_sentence2\n"
   ]
  },
  {
   "cell_type": "markdown",
   "metadata": {},
   "source": [
    "# Check similarity between CV and JD"
   ]
  },
  {
   "cell_type": "code",
   "execution_count": 55,
   "metadata": {},
   "outputs": [
    {
     "name": "stdout",
     "output_type": "stream",
     "text": [
      "Similarity score is: 36.55434846878052%\n"
     ]
    }
   ],
   "source": [
    "from nltk.tokenize import word_tokenize, sent_tokenize\n",
    "import gensim\n",
    "import numpy as np\n",
    "\n",
    "file_docs = []\n",
    "\n",
    "tokens = sent_tokenize(word_sentence1)\n",
    "for line in tokens:\n",
    "    file_docs.append(line)\n",
    "\n",
    "gen_docs = [[w.lower() for w in word_tokenize(text)]\n",
    "            for text in file_docs]\n",
    "\n",
    "dictionary = gensim.corpora.Dictionary(gen_docs)\n",
    "\n",
    "corpus = [dictionary.doc2bow(gen_doc) for gen_doc in gen_docs]\n",
    "\n",
    "tf_idf = gensim.models.TfidfModel(corpus)\n",
    "\n",
    "sims = gensim.similarities.Similarity('C:\\\\Users\\\\Ramy\\\\Desktop\\\\',tf_idf[corpus],num_features=len(dictionary))\n",
    "file2_docs = []\n",
    "\n",
    "tokens = sent_tokenize(word_sentence2)\n",
    "for line in tokens:\n",
    "    file2_docs.append(line)\n",
    "\n",
    "for line in file2_docs:\n",
    "    query_doc = [w.lower() for w in word_tokenize(line)]\n",
    "    query_doc_bow = dictionary.doc2bow(query_doc) #update an existing dictionary and create bag of words\n",
    "\n",
    "# perform a similarity query against the corpus\n",
    "query_doc_tf_idf = tf_idf[query_doc_bow]\n",
    "\n",
    "\n",
    "l1=list(sims[query_doc_tf_idf])\n",
    "\n",
    "\n",
    "print(\"Similarity score is: {}%\".format(l1[0]*100))"
   ]
  },
  {
   "cell_type": "markdown",
   "metadata": {},
   "source": [
    "## Key words identifier"
   ]
  },
  {
   "cell_type": "code",
   "execution_count": 62,
   "metadata": {},
   "outputs": [],
   "source": [
    "import re\n",
    "import pandas as pd\n",
    "import string\n",
    "import numpy as np\n",
    "from nltk.tokenize import word_tokenize, punkt\n",
    "import nltk\n",
    "from nltk.corpus import stopwords\n",
    "from nltk.stem.porter import PorterStemmer\n",
    "from nltk.stem import WordNetLemmatizer \n",
    "from matplotlib import pyplot\n",
    "\n",
    "#Job Descriptions of 250 CVs scraped from Indeeed\n",
    "desc=pd.read_csv(r\"C:\\Users\\Ramy\\Desktop\\descriptions_v2.csv\")\n"
   ]
  },
  {
   "cell_type": "code",
   "execution_count": 63,
   "metadata": {},
   "outputs": [
    {
     "data": {
      "text/html": [
       "<div>\n",
       "<style scoped>\n",
       "    .dataframe tbody tr th:only-of-type {\n",
       "        vertical-align: middle;\n",
       "    }\n",
       "\n",
       "    .dataframe tbody tr th {\n",
       "        vertical-align: top;\n",
       "    }\n",
       "\n",
       "    .dataframe thead th {\n",
       "        text-align: right;\n",
       "    }\n",
       "</style>\n",
       "<table border=\"1\" class=\"dataframe\">\n",
       "  <thead>\n",
       "    <tr style=\"text-align: right;\">\n",
       "      <th></th>\n",
       "      <th>Description</th>\n",
       "    </tr>\n",
       "  </thead>\n",
       "  <tbody>\n",
       "    <tr>\n",
       "      <th>0</th>\n",
       "      <td>This company is an e-retailer with a unique me...</td>\n",
       "    </tr>\n",
       "    <tr>\n",
       "      <th>1</th>\n",
       "      <td>Line of Service\\nAdvisory\\nIndustry/Sector\\nFS...</td>\n",
       "    </tr>\n",
       "    <tr>\n",
       "      <th>2</th>\n",
       "      <td>Interested candidates may apply by emailing th...</td>\n",
       "    </tr>\n",
       "    <tr>\n",
       "      <th>3</th>\n",
       "      <td>Our clientâ€¦\\n\\nOur client, a leading financi...</td>\n",
       "    </tr>\n",
       "    <tr>\n",
       "      <th>4</th>\n",
       "      <td>Python Data Scientist - Research and Engineeri...</td>\n",
       "    </tr>\n",
       "  </tbody>\n",
       "</table>\n",
       "</div>"
      ],
      "text/plain": [
       "                                         Description\n",
       "0  This company is an e-retailer with a unique me...\n",
       "1  Line of Service\\nAdvisory\\nIndustry/Sector\\nFS...\n",
       "2  Interested candidates may apply by emailing th...\n",
       "3  Our clientâ€¦\\n\\nOur client, a leading financi...\n",
       "4  Python Data Scientist - Research and Engineeri..."
      ]
     },
     "execution_count": 63,
     "metadata": {},
     "output_type": "execute_result"
    }
   ],
   "source": [
    "desc.head()"
   ]
  },
  {
   "cell_type": "code",
   "execution_count": 64,
   "metadata": {},
   "outputs": [],
   "source": [
    "desc['Description'] = desc['Description'].map(lambda x: x.lower())\n",
    "\n",
    "# Remove numbers\n",
    "desc['Description'] = desc['Description'].map(lambda x: re.sub(r'\\d+', '', x))\n",
    "\n",
    "#remove punctuation\n",
    "desc['Description']  = desc['Description'].map(lambda x: x.translate(x.maketrans('', '', string.punctuation)))\n",
    "\n",
    "# Remove white spaces\n",
    "desc['Description'] = desc['Description'].map(lambda x: x.strip())\n",
    "\n",
    "# Tokenize into words\n",
    "desc['Description'] = desc['Description'].map(lambda x: word_tokenize(x))\n",
    "\n",
    "# Remove non alphabetic tokens\n",
    "desc['Description'] = desc['Description'].map(lambda x: [word for word in x if word.isalpha()])\n",
    "\n",
    "# Lemmitize\n",
    "lem = WordNetLemmatizer()\n",
    "desc['Description'] = desc['Description'].map(lambda x: [lem.lemmatize(word,\"v\") for word in x])\n",
    "\n",
    "# Turn lists back to string\n",
    "desc['Description'] = desc['Description'].map(lambda x: ' '.join(x))"
   ]
  },
  {
   "cell_type": "code",
   "execution_count": 65,
   "metadata": {},
   "outputs": [],
   "source": [
    "#filter out stop words\n",
    "stop_words = set(stopwords.words('english'))\n",
    "desc['Description']= desc['Description']\n",
    "\n",
    "# Tokenize into words\n",
    "desc['Description'] = desc['Description'].map(lambda x: word_tokenize(x))\n",
    "\n",
    "#Remove stopwords\n",
    "desc['Description'] = desc['Description'].map(lambda x: [w for w in x if not w in stop_words])\n",
    "\n",
    "# Turn lists back to string\n",
    "desc['Description'] = desc['Description'].map(lambda x: ' '.join(x))\n"
   ]
  },
  {
   "cell_type": "code",
   "execution_count": 66,
   "metadata": {},
   "outputs": [],
   "source": [
    "import collections\n",
    "import itertools\n",
    "\n",
    "word_list = [sentence.lower().split() for sentence in desc['Description']]\n",
    "list_of_words = list(itertools.chain(*word_list))\n",
    "\n",
    "# Create counter\n",
    "count_of_words = collections.Counter(list_of_words)\n",
    "count_of_words.most_common(1000)\n",
    "\n",
    "common_words_df = pd.DataFrame(count_of_words.most_common(1000),\n",
    "                             columns=['words', 'count'])\n",
    "common_words_df['Rank'] = np.arange(len(common_words_df))+1"
   ]
  },
  {
   "cell_type": "code",
   "execution_count": 19,
   "metadata": {},
   "outputs": [],
   "source": [
    "common_words_df\n",
    "common_words_df.to_csv('C:\\\\Users\\\\Ramy\\\\Desktop\\\\test3.csv')"
   ]
  },
  {
   "cell_type": "code",
   "execution_count": 67,
   "metadata": {},
   "outputs": [
    {
     "data": {
      "text/plain": [
       "Text(0.5, 1.0, 'Zipf Distribution')"
      ]
     },
     "execution_count": 67,
     "metadata": {},
     "output_type": "execute_result"
    },
    {
     "data": {
      "image/png": "[encoded data removed]",
      "text/plain": [
       "<Figure size 432x288 with 1 Axes>"
      ]
     },
     "metadata": {
      "needs_background": "light"
     },
     "output_type": "display_data"
    }
   ],
   "source": [
    "pyplot.plot(common_words_df['Rank'], common_words_df['count'], color='red')\n",
    "pyplot.xlabel(\"Rank\")\n",
    "pyplot.ylabel(\"Occurence of words\")\n",
    "pyplot.title(\"Zipf Distribution\")"
   ]
  },
  {
   "cell_type": "markdown",
   "metadata": {},
   "source": [
    "# CV words comparison with JD top words"
   ]
  },
  {
   "cell_type": "code",
   "execution_count": 68,
   "metadata": {
    "scrolled": true
   },
   "outputs": [],
   "source": [
    "word_list1 = word_sentence.lower().split()\n",
    "\n",
    "count_of_words1 = collections.Counter(word_list1)\n",
    "\n",
    "\n",
    "common_words_df_cv = pd.DataFrame(count_of_words1.most_common(),\n",
    "                             columns=['words', 'count'])\n",
    "common_words_df_cv['Rank'] = np.arange(len(common_words_df_cv))+1"
   ]
  },
  {
   "cell_type": "code",
   "execution_count": 69,
   "metadata": {},
   "outputs": [
    {
     "data": {
      "text/html": [
       "<div>\n",
       "<style scoped>\n",
       "    .dataframe tbody tr th:only-of-type {\n",
       "        vertical-align: middle;\n",
       "    }\n",
       "\n",
       "    .dataframe tbody tr th {\n",
       "        vertical-align: top;\n",
       "    }\n",
       "\n",
       "    .dataframe thead th {\n",
       "        text-align: right;\n",
       "    }\n",
       "</style>\n",
       "<table border=\"1\" class=\"dataframe\">\n",
       "  <thead>\n",
       "    <tr style=\"text-align: right;\">\n",
       "      <th></th>\n",
       "      <th>words</th>\n",
       "      <th>count</th>\n",
       "      <th>Rank</th>\n",
       "    </tr>\n",
       "  </thead>\n",
       "  <tbody>\n",
       "    <tr>\n",
       "      <th>0</th>\n",
       "      <td>mumbai</td>\n",
       "      <td>3</td>\n",
       "      <td>1</td>\n",
       "    </tr>\n",
       "    <tr>\n",
       "      <th>1</th>\n",
       "      <td>india</td>\n",
       "      <td>3</td>\n",
       "      <td>2</td>\n",
       "    </tr>\n",
       "    <tr>\n",
       "      <th>2</th>\n",
       "      <td>data</td>\n",
       "      <td>2</td>\n",
       "      <td>3</td>\n",
       "    </tr>\n",
       "    <tr>\n",
       "      <th>3</th>\n",
       "      <td>time</td>\n",
       "      <td>2</td>\n",
       "      <td>4</td>\n",
       "    </tr>\n",
       "    <tr>\n",
       "      <th>4</th>\n",
       "      <td>experience</td>\n",
       "      <td>2</td>\n",
       "      <td>5</td>\n",
       "    </tr>\n",
       "  </tbody>\n",
       "</table>\n",
       "</div>"
      ],
      "text/plain": [
       "        words  count  Rank\n",
       "0      mumbai      3     1\n",
       "1       india      3     2\n",
       "2        data      2     3\n",
       "3        time      2     4\n",
       "4  experience      2     5"
      ]
     },
     "execution_count": 69,
     "metadata": {},
     "output_type": "execute_result"
    }
   ],
   "source": [
    "common_words_df_cv.head()"
   ]
  },
  {
   "cell_type": "code",
   "execution_count": 70,
   "metadata": {},
   "outputs": [
    {
     "data": {
      "text/plain": [
       "Text(0.5, 1.0, 'CV Law Distribution')"
      ]
     },
     "execution_count": 70,
     "metadata": {},
     "output_type": "execute_result"
    },
    {
     "data": {
      "image/png": "[encoded data removed]",
      "text/plain": [
       "<Figure size 432x288 with 1 Axes>"
      ]
     },
     "metadata": {
      "needs_background": "light"
     },
     "output_type": "display_data"
    }
   ],
   "source": [
    "#CV law\n",
    "\n",
    "top=range(10,100,10)\n",
    "score=[]\n",
    "\n",
    "for i in top:\n",
    "    common_words_df_X = pd.DataFrame(count_of_words.most_common(i),\n",
    "                                 columns=['words', 'count'])\n",
    "    common_words_df_X['Rank'] = np.arange(i)+1\n",
    "    merged_inner = pd.merge(left=common_words_df_cv,right=common_words_df_X, left_on='words', right_on='words')\n",
    "    common = len(merged_inner)/i\n",
    "    score.append(common)\n",
    "\n",
    "pyplot.plot(top, score, color='red')\n",
    "pyplot.xlabel(\"Top #words\")\n",
    "pyplot.ylabel(\"Percentage words captured\")\n",
    "pyplot.title(\"CV Law Distribution\")\n",
    "\n"
   ]
  },
  {
   "cell_type": "markdown",
   "metadata": {},
   "source": [
    "# JD verbs/adjectives ratio to total"
   ]
  },
  {
   "cell_type": "code",
   "execution_count": 71,
   "metadata": {},
   "outputs": [
    {
     "name": "stdout",
     "output_type": "stream",
     "text": [
      "Counter({'NN': 43695, 'JJ': 16574, 'NNS': 12476, 'VBP': 8414, 'RB': 2516, 'VB': 2509, 'IN': 1124, 'VBD': 512, 'VBZ': 438, 'VBG': 401, 'CD': 352, 'JJS': 342, 'MD': 290, 'FW': 288, 'PRP': 256, 'VBN': 231, 'DT': 139, 'JJR': 138, 'RBR': 129, 'CC': 59, 'NNP': 48, 'RBS': 39, 'RP': 15, 'WRB': 9, 'POS': 7, 'WDT': 5, 'TO': 2, 'PRP$': 1})\n"
     ]
    }
   ],
   "source": [
    "tags1=nltk.pos_tag(list_of_words)\n",
    "from collections import Counter\n",
    "counts1 = Counter( tag for word,  tag in tags1)\n",
    "print(counts1)"
   ]
  },
  {
   "cell_type": "code",
   "execution_count": 72,
   "metadata": {},
   "outputs": [],
   "source": [
    "verbs = counts1['VBN']+counts1['VBP']+counts1['VB']+counts1['VBZ']+counts1['VBD'] + counts1['VBG']"
   ]
  },
  {
   "cell_type": "code",
   "execution_count": 73,
   "metadata": {},
   "outputs": [],
   "source": [
    "adj = counts1['JJ'] + counts1['JJS']"
   ]
  },
  {
   "cell_type": "code",
   "execution_count": 74,
   "metadata": {},
   "outputs": [
    {
     "data": {
      "text/plain": [
       "0.13740399301168016"
      ]
     },
     "execution_count": 74,
     "metadata": {},
     "output_type": "execute_result"
    }
   ],
   "source": [
    "verb_ratio = verbs/len(list_of_words)\n",
    "verb_ratio"
   ]
  },
  {
   "cell_type": "code",
   "execution_count": 75,
   "metadata": {
    "scrolled": true
   },
   "outputs": [
    {
     "data": {
      "text/plain": [
       "0.1858717269720577"
      ]
     },
     "execution_count": 75,
     "metadata": {},
     "output_type": "execute_result"
    }
   ],
   "source": [
    "abj_ratio = adj/len(list_of_words)\n",
    "abj_ratio"
   ]
  },
  {
   "cell_type": "markdown",
   "metadata": {},
   "source": [
    "# Clustering\n"
   ]
  },
  {
   "cell_type": "code",
   "execution_count": 76,
   "metadata": {},
   "outputs": [
    {
     "name": "stdout",
     "output_type": "stream",
     "text": [
      "Wall time: 70.1 ms\n"
     ]
    }
   ],
   "source": [
    "from sklearn.feature_extraction.text import TfidfVectorizer,CountVectorizer,TfidfTransformer\n",
    "from sklearn.cluster import KMeans\n",
    "from sklearn.metrics.pairwise import cosine_similarity\n",
    "#define vectorizer parameters\n",
    "tfidf_vectorizer = TfidfVectorizer(max_df=0.5,\n",
    "                                 min_df=0.05,\n",
    "                                 use_idf=True)\n",
    "\n",
    "%time tfidf_matrix = tfidf_vectorizer.fit_transform(desc['Description'])"
   ]
  },
  {
   "cell_type": "code",
   "execution_count": 77,
   "metadata": {},
   "outputs": [],
   "source": [
    "from sklearn.cluster import KMeans\n",
    "\n",
    "num_clusters = 10\n",
    "inertia = []\n",
    "for i in range(1,15):\n",
    "    km = KMeans(n_clusters=i)\n",
    "    km.fit(tfidf_matrix)\n",
    "    inertia.append(km.inertia_)"
   ]
  },
  {
   "cell_type": "code",
   "execution_count": 78,
   "metadata": {},
   "outputs": [
    {
     "data": {
      "image/png": "[encoded data removed]",
      "text/plain": [
       "<Figure size 576x288 with 1 Axes>"
      ]
     },
     "metadata": {
      "needs_background": "light"
     },
     "output_type": "display_data"
    }
   ],
   "source": [
    "import matplotlib.pyplot as plt\n",
    "plt.figure(figsize=(8,4))\n",
    "plt.plot(inertia)\n",
    "plt.title('\"Elbow Method\"')\n",
    "plt.xlabel('Number of Clusters', fontsize=9)\n",
    "plt.ylabel('Inertia', fontsize=9)\n",
    "plt.show()"
   ]
  },
  {
   "cell_type": "code",
   "execution_count": 79,
   "metadata": {},
   "outputs": [
    {
     "name": "stdout",
     "output_type": "stream",
     "text": [
      "Wall time: 1.91 s\n"
     ]
    }
   ],
   "source": [
    "from sklearn.cluster import KMeans\n",
    "\n",
    "num_clusters = 6\n",
    "\n",
    "km = KMeans(n_clusters=num_clusters)\n",
    "\n",
    "%time km.fit(tfidf_matrix)\n",
    "\n",
    "clusters = km.labels_.tolist()"
   ]
  },
  {
   "cell_type": "code",
   "execution_count": 80,
   "metadata": {},
   "outputs": [
    {
     "data": {
      "text/plain": [
       "[219.60191791729565,\n",
       " 211.1650031578799,\n",
       " 205.20831941535005,\n",
       " 200.9547204325342,\n",
       " 193.06098589233355,\n",
       " 186.3809596288603,\n",
       " 184.3066189736984,\n",
       " 177.14826253379923,\n",
       " 171.6421843586971,\n",
       " 167.82602663097276,\n",
       " 165.73481171798807,\n",
       " 161.12917877485208,\n",
       " 156.47388065375972,\n",
       " 153.75615864744512]"
      ]
     },
     "execution_count": 80,
     "metadata": {},
     "output_type": "execute_result"
    }
   ],
   "source": [
    "inertia"
   ]
  }
 ],
 "metadata": {
  "kernelspec": {
   "display_name": "Python 3",
   "language": "python",
   "name": "python3"
  },
  "language_info": {
   "codemirror_mode": {
    "name": "ipython",
    "version": 3
   },
   "file_extension": ".py",
   "mimetype": "text/x-python",
   "name": "python",
   "nbconvert_exporter": "python",
   "pygments_lexer": "ipython3",
   "version": "3.7.3"
  }
 },
 "nbformat": 4,
 "nbformat_minor": 2
}
